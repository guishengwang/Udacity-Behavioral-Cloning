{
 "cells": [
  {
   "cell_type": "code",
   "execution_count": 1,
   "metadata": {},
   "outputs": [
    {
     "name": "stderr",
     "output_type": "stream",
     "text": [
      "Using TensorFlow backend.\n"
     ]
    },
    {
     "name": "stdout",
     "output_type": "stream",
     "text": [
      "WARNING:tensorflow:From D:\\Anaconda3\\envs\\tf15\\lib\\site-packages\\tensorflow_core\\python\\ops\\resource_variable_ops.py:1630: calling BaseResourceVariable.__init__ (from tensorflow.python.ops.resource_variable_ops) with constraint is deprecated and will be removed in a future version.\n",
      "Instructions for updating:\n",
      "If using Keras pass *_constraint arguments to layers.\n",
      "WARNING:tensorflow:From D:\\Anaconda3\\envs\\tf15\\lib\\site-packages\\keras\\backend\\tensorflow_backend.py:422: The name tf.global_variables is deprecated. Please use tf.compat.v1.global_variables instead.\n",
      "\n",
      "Train on 6428 samples, validate on 1608 samples\n",
      "Epoch 1/7\n",
      "6428/6428 [==============================] - 6s 998us/step - loss: 8223906.1898 - val_loss: 4106.3377\n",
      "Epoch 2/7\n",
      "6428/6428 [==============================] - 6s 953us/step - loss: 3747.5175 - val_loss: 3669.0274\n",
      "Epoch 3/7\n",
      "6428/6428 [==============================] - 6s 963us/step - loss: 2848.9892 - val_loss: 1975.1718\n",
      "Epoch 4/7\n",
      "6428/6428 [==============================] - 6s 991us/step - loss: 2195.5618 - val_loss: 4398.1806\n",
      "Epoch 5/7\n",
      "6428/6428 [==============================] - 6s 941us/step - loss: 2218.9442 - val_loss: 1404.8020\n",
      "Epoch 6/7\n",
      "6428/6428 [==============================] - 6s 938us/step - loss: 2318.8722 - val_loss: 1919.0879\n",
      "Epoch 7/7\n",
      "6428/6428 [==============================] - 6s 953us/step - loss: 1748.2265 - val_loss: 3344.2561\n"
     ]
    }
   ],
   "source": [
    "import csv\n",
    "import cv2\n",
    "import numpy as np\n",
    "\n",
    "lines=[]\n",
    "with open(\"../p4_data/data/driving_log.csv\") as csvfile:\n",
    "    reader=csv.reader(csvfile)\n",
    "    for line in reader:\n",
    "        lines.append(line)\n",
    "#print(lines[200])\n",
    "\n",
    "images=[]\n",
    "measurements=[]\n",
    "for line in lines:\n",
    "    source_path=line[0]\n",
    "    #print(source_path)\n",
    "    filename=source_path.split('/')[-1]\n",
    "    current_path='../p4_data/data/IMG/'+filename\n",
    "    image=cv2.imread(current_path)\n",
    "    images.append(image)\n",
    "    measurement=float(line[3])\n",
    "    measurements.append(measurement)\n",
    "\n",
    "X_train=np.array(images)\n",
    "y_train=np.array(measurements)\n",
    "    \n",
    "from keras.models import Sequential\n",
    "from keras.layers import Flatten, Dense\n",
    "\n",
    "model=Sequential()\n",
    "model.add(Flatten(input_shape=(160,320,3)))\n",
    "model.add(Dense(1))\n",
    "\n",
    "model.compile(loss='mse',optimizer='adam')\n",
    "model.fit(X_train,y_train,validation_split=0.2,shuffle=True,epochs=7)\n",
    "\n",
    "model.save('model.h5')\n",
    "print(\"model was saved successfully\")\n",
    "\n",
    "    "
   ]
  }
 ],
 "metadata": {
  "kernelspec": {
   "display_name": "Python 3",
   "language": "python",
   "name": "python3"
  },
  "language_info": {
   "codemirror_mode": {
    "name": "ipython",
    "version": 3
   },
   "file_extension": ".py",
   "mimetype": "text/x-python",
   "name": "python",
   "nbconvert_exporter": "python",
   "pygments_lexer": "ipython3",
   "version": "3.7.5"
  }
 },
 "nbformat": 4,
 "nbformat_minor": 2
}
