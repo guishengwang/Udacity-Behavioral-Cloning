{
 "cells": [
  {
   "cell_type": "code",
   "execution_count": 15,
   "metadata": {},
   "outputs": [
    {
     "name": "stderr",
     "output_type": "stream",
     "text": [
      "C:\\Users\\guish\\AppData\\Roaming\\Python\\Python37\\site-packages\\ipykernel_launcher.py:47: UserWarning: Update your `Conv2D` call to the Keras 2 API: `Conv2D(6, (5, 5), activation=\"relu\")`\n",
      "C:\\Users\\guish\\AppData\\Roaming\\Python\\Python37\\site-packages\\ipykernel_launcher.py:49: UserWarning: Update your `Conv2D` call to the Keras 2 API: `Conv2D(6, (5, 5), activation=\"relu\")`\n"
     ]
    },
    {
     "name": "stdout",
     "output_type": "stream",
     "text": [
      "Train on 12857 samples, validate on 3215 samples\n",
      "Epoch 1/7\n",
      "12857/12857 [==============================] - 29s 2ms/step - loss: 0.5387 - val_loss: 0.0131\n",
      "Epoch 2/7\n",
      "12857/12857 [==============================] - 30s 2ms/step - loss: 0.0116 - val_loss: 0.0120\n",
      "Epoch 3/7\n",
      "12857/12857 [==============================] - 30s 2ms/step - loss: 0.0103 - val_loss: 0.0114\n",
      "Epoch 4/7\n",
      "12857/12857 [==============================] - 29s 2ms/step - loss: 0.0094 - val_loss: 0.0114s - lo - - ETA: 2s \n",
      "Epoch 5/7\n",
      "12857/12857 [==============================] - 30s 2ms/step - loss: 0.0089 - val_loss: 0.0112\n",
      "Epoch 6/7\n",
      "12857/12857 [==============================] - 32s 2ms/step - loss: 0.0083 - val_loss: 0.0114\n",
      "Epoch 7/7\n",
      "12857/12857 [==============================] - 31s 2ms/step - loss: 0.0079 - val_loss: 0.0122\n",
      "model was saved successfully\n"
     ]
    },
    {
     "ename": "NameError",
     "evalue": "name 'train_generator' is not defined",
     "output_type": "error",
     "traceback": [
      "\u001b[1;31m---------------------------------------------------------------------------\u001b[0m",
      "\u001b[1;31mNameError\u001b[0m                                 Traceback (most recent call last)",
      "\u001b[1;32m<ipython-input-15-5e4a72081f0f>\u001b[0m in \u001b[0;36m<module>\u001b[1;34m\u001b[0m\n\u001b[0;32m     61\u001b[0m \u001b[1;33m\u001b[0m\u001b[0m\n\u001b[0;32m     62\u001b[0m \u001b[1;33m\u001b[0m\u001b[0m\n\u001b[1;32m---> 63\u001b[1;33m history_object = model.fit_generator(train_generator, samples_per_epoch =\n\u001b[0m\u001b[0;32m     64\u001b[0m     \u001b[0mlen\u001b[0m\u001b[1;33m(\u001b[0m\u001b[0mtrain_samples\u001b[0m\u001b[1;33m)\u001b[0m\u001b[1;33m,\u001b[0m \u001b[0mvalidation_data\u001b[0m \u001b[1;33m=\u001b[0m\u001b[1;33m\u001b[0m\u001b[1;33m\u001b[0m\u001b[0m\n\u001b[0;32m     65\u001b[0m     \u001b[0mvalidation_generator\u001b[0m\u001b[1;33m,\u001b[0m\u001b[1;33m\u001b[0m\u001b[1;33m\u001b[0m\u001b[0m\n",
      "\u001b[1;31mNameError\u001b[0m: name 'train_generator' is not defined"
     ]
    }
   ],
   "source": [
    "import csv\n",
    "import cv2\n",
    "import numpy as np\n",
    "\n",
    "lines=[]\n",
    "with open(\"../p4_data/data/driving_log.csv\") as csvfile:\n",
    "    reader=csv.reader(csvfile)\n",
    "    for line in reader:\n",
    "        lines.append(line)\n",
    "#print(lines[200])\n",
    "\n",
    "images=[]\n",
    "measurements=[]\n",
    "correction=0.2\n",
    "\n",
    "for line in lines:\n",
    "    source_path=line[0]\n",
    "    #print(source_path)\n",
    "    filename=source_path.split('/')[-1]\n",
    "    current_path='../p4_data/data/IMG/'+filename\n",
    "    image=cv2.imread(current_path)\n",
    "    images.append(image)\n",
    "    \n",
    "    measurement=float(line[3])\n",
    "    m_left=measurement+correction\n",
    "    m_right=measurement-correction\n",
    "    measurements.append(measurement)\n",
    "\n",
    "augmented_images,augmented_measurements=[],[]\n",
    "for image, measurement in zip(images, measurements):\n",
    "    augmented_images.append(image)\n",
    "    augmented_measurements.append(measurement)\n",
    "    augmented_images.append(cv2.flip(image,1))\n",
    "    augmented_measurements.append(measurement*(-1)) \n",
    "    \n",
    "X_train=np.array(augmented_images)\n",
    "y_train=np.array(augmented_measurements)\n",
    "    \n",
    "from keras.models import Sequential, Model\n",
    "from keras.layers import Flatten, Dense,Lambda, Dropout, Conv2D, Cropping2D\n",
    "from keras.layers.pooling import MaxPooling2D\n",
    "import matplotlib.pyplot as plt\n",
    "\n",
    "model=Sequential()\n",
    "model.add(Cropping2D(cropping=((50,20), (0,0)), input_shape=(160,320,3)))\n",
    "model.add(Lambda(lambda x: x/255-0.5, input_shape=(90,320,3)))\n",
    "model.add(Conv2D(6,5,5,activation=\"relu\"))\n",
    "model.add(MaxPooling2D())\n",
    "model.add(Conv2D(6,5,5,activation=\"relu\"))\n",
    "model.add(MaxPooling2D())\n",
    "model.add(Flatten())\n",
    "model.add(Dense(120))\n",
    "model.add(Dense(84))\n",
    "model.add(Dense(1))\n",
    "\n",
    "model.compile(loss='mse',optimizer='adam')\n",
    "model.fit(X_train,y_train,validation_split=0.2,shuffle=True,epochs=7)\n",
    "\n",
    "model.save('model.h5')\n",
    "print(\"model was saved successfully\")\n",
    "\n",
    "\n",
    "history_object = model.fit_generator(train_generator, samples_per_epoch =\n",
    "    len(train_samples), validation_data = \n",
    "    validation_generator,\n",
    "    nb_val_samples = len(validation_samples), \n",
    "    nb_epoch=5, verbose=1)\n",
    "\n",
    "### print the keys contained in the history object\n",
    "print(history_object.history.keys())\n",
    "\n",
    "### plot the training and validation loss for each epoch\n",
    "plt.plot(history_object.history['loss'])\n",
    "plt.plot(history_object.history['val_loss'])\n",
    "plt.title('model mean squared error loss')\n",
    "plt.ylabel('mean squared error loss')\n",
    "plt.xlabel('epoch')\n",
    "plt.legend(['training set', 'validation set'], loc='upper right')\n",
    "plt.show()\n",
    "\n",
    "\n",
    "\n",
    "\n",
    "    "
   ]
  },
  {
   "cell_type": "code",
   "execution_count": null,
   "metadata": {},
   "outputs": [],
   "source": []
  }
 ],
 "metadata": {
  "kernelspec": {
   "display_name": "Python 3",
   "language": "python",
   "name": "python3"
  },
  "language_info": {
   "codemirror_mode": {
    "name": "ipython",
    "version": 3
   },
   "file_extension": ".py",
   "mimetype": "text/x-python",
   "name": "python",
   "nbconvert_exporter": "python",
   "pygments_lexer": "ipython3",
   "version": "3.7.5"
  }
 },
 "nbformat": 4,
 "nbformat_minor": 2
}
